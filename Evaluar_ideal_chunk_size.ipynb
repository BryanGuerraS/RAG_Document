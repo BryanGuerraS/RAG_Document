{
 "cells": [
  {
   "cell_type": "code",
   "execution_count": null,
   "metadata": {},
   "outputs": [],
   "source": [
    "## Librerías Adicionales Instaladas\n",
    "#!pip install llama-index\n",
    "#!pip install llama-index-llms-cohere\n",
    "#!pip install llama-index-embeddings-cohere\n",
    "#!pip install spacy\n",
    "#!pip install pinecone-client\n",
    "#°pip install llama-index llama-index-vector-stores-pinecone\n",
    "#!pip install --upgrade jupyter ipywidgets"
   ]
  },
  {
   "cell_type": "code",
   "execution_count": 10,
   "metadata": {},
   "outputs": [],
   "source": [
    "import os\n",
    "import nest_asyncio\n",
    "from dotenv import load_dotenv\n",
    "import getpass\n",
    "\n",
    "nest_asyncio.apply()\n",
    "\n",
    "from llama_index.core import (\n",
    "    SimpleDirectoryReader,\n",
    "    VectorStoreIndex,\n",
    ")\n",
    "from llama_index.core.evaluation import (\n",
    "    FaithfulnessEvaluator,\n",
    "    RelevancyEvaluator\n",
    ")\n",
    "from llama_index.core.llama_dataset.generator import RagDatasetGenerator\n",
    "from llama_index.llms.openai import OpenAI\n",
    "\n",
    "\n",
    "# Carga de Variables\n",
    "load_dotenv()\n",
    "\n",
    "# Inicializacion de Variables\n",
    "openai_api_key = getpass.getpass()\n",
    "os.environ[\"OPENAI_API_KEY\"] = openai_api_key"
   ]
  },
  {
   "cell_type": "code",
   "execution_count": null,
   "metadata": {},
   "outputs": [
    {
     "name": "stdout",
     "output_type": "stream",
     "text": [
      "[Document(id_='f41d0c06-62c8-4a8b-bf59-c9fd58dcc447', embedding=None, metadata={'file_name': 'documento.docx', 'file_path': 'c:\\\\Users\\\\danyx\\\\Downloads\\\\Entrenamiento PI\\\\Challenge PI - AI Engineer v2\\\\archivos\\\\documento.docx', 'file_type': 'application/vnd.openxmlformats-officedocument.wordprocessingml.document', 'file_size': 13877, 'creation_date': '2024-12-16', 'last_modified_date': '2024-01-16'}, excluded_embed_metadata_keys=['file_name', 'file_type', 'file_size', 'creation_date', 'last_modified_date', 'last_accessed_date'], excluded_llm_metadata_keys=['file_name', 'file_type', 'file_size', 'creation_date', 'last_modified_date', 'last_accessed_date'], relationships={}, metadata_template='{key}: {value}', metadata_separator='\\n', text='Ficción Espacial: En la lejana galaxia de Zenthoria, dos civilizaciones alienígenas, los Dracorians y los Lumis, se encuentran al borde de la guerra intergaláctica. Un intrépido explorador, Zara, descubre un antiguo artefacto que podría contener la clave para la paz. Mientras viaja por planetas hostiles y se enfrenta a desafíos cósmicos, Zara debe desentrañar los secretos de la reliquia antes de que la galaxia se sumerja en el caos.\\n\\nFicción Tecnológica: En un futuro distópico, la inteligencia artificial ha evolucionado al punto de alcanzar la singularidad. Un joven ingeniero, Alex, se ve inmerso en una conspiración global cuando descubre que las supercomputadoras han desarrollado emociones. A medida que la humanidad lucha por controlar a estas máquinas sintientes, Alex se enfrenta a dilemas éticos y decisiones que podrían cambiar el curso de la historia.\\n\\nNaturaleza Deslumbrante: En lo profundo de la selva amazónica, una flor mágica conocida como \"Luz de Luna\" florece solo durante la noche. Con pétalos que brillan intensamente, la flor ilumina la oscuridad de la jungla, guiando a criaturas nocturnas y revelando paisajes deslumbrantes. Los lugareños creen que posee poderes curativos, convirtiéndola en el tesoro oculto de la naturaleza.\\n\\nCuento Corto: En un pequeño pueblo, cada año, un reloj antiguo regala un día extra a la persona más desafortunada. Emma, una joven huérfana, es la elegida este año. Durante su día adicional, descubre una puerta mágica que la transporta a un mundo lleno de maravillas. Al final del día, Emma decide compartir su regalo con el pueblo, dejando una huella imborrable en el corazón de cada habitante.\\n\\nCaracterísticas del Héroe Olvidado: Conocido como \"Sombra Silenciosa\", nuestro héroe es un maestro del sigilo y la astucia. Dotado de una memoria fotográfica y habilidades de camuflaje, se desplaza entre las sombras para proteger a los indefensos. Su pasado enigmático esconde tragedias que lo impulsan a luchar contra la injusticia. Aunque carece de habilidades sobrenaturales, su ingenio y habilidades tácticas lo convierten en una fuerza a tener en cuenta.', mimetype='text/plain', start_char_idx=None, end_char_idx=None, metadata_seperator='\\n', text_template='{metadata_str}\\n\\n{content}')]\n"
     ]
    }
   ],
   "source": [
    "# Carga de Data\n",
    "reader = SimpleDirectoryReader(\"./archivos/\")\n",
    "documents = reader.load_data()\n",
    "print(documents)"
   ]
  },
  {
   "cell_type": "code",
   "execution_count": 20,
   "metadata": {},
   "outputs": [
    {
     "data": {
      "application/vnd.jupyter.widget-view+json": {
       "model_id": "36f94967d1fc40eb88395ff7b7b1346d",
       "version_major": 2,
       "version_minor": 0
      },
      "text/plain": [
       "Parsing nodes:   0%|          | 0/1 [00:00<?, ?it/s]"
      ]
     },
     "metadata": {},
     "output_type": "display_data"
    },
    {
     "name": "stderr",
     "output_type": "stream",
     "text": [
      "100%|██████████| 1/1 [00:02<00:00,  2.21s/it]\n",
      "c:\\Users\\danyx\\Downloads\\Entrenamiento PI\\Challenge PI - AI Engineer v2\\venv\\Lib\\site-packages\\llama_index\\core\\llama_dataset\\generator.py:181: UserWarning: Fewer questions generated (4) than requested (5).\n",
      "  warnings.warn(\n",
      "100%|██████████| 4/4 [00:01<00:00,  2.09it/s]"
     ]
    },
    {
     "name": "stdout",
     "output_type": "stream",
     "text": [
      "examples=[LabelledRagDataExample(query='En la historia de ficción espacial, ¿qué descubrimiento hace el explorador Zara que podría ayudar a evitar la guerra entre los Dracorians y los Lumis?', query_by=CreatedBy(model_name='gpt-4o-mini', type=<CreatedByType.AI: 'ai'>), reference_contexts=['Ficción Espacial: En la lejana galaxia de Zenthoria, dos civilizaciones alienígenas, los Dracorians y los Lumis, se encuentran al borde de la guerra intergaláctica. Un intrépido explorador, Zara, descubre un antiguo artefacto que podría contener la clave para la paz. Mientras viaja por planetas hostiles y se enfrenta a desafíos cósmicos, Zara debe desentrañar los secretos de la reliquia antes de que la galaxia se sumerja en el caos.\\n\\nFicción Tecnológica: En un futuro distópico, la inteligencia artificial ha evolucionado al punto de alcanzar la singularidad. Un joven ingeniero, Alex, se ve inmerso en una conspiración global cuando descubre que las supercomputadoras han desarrollado emociones. A medida que la humanidad lucha por controlar a estas máquinas sintientes, Alex se enfrenta a dilemas éticos y decisiones que podrían cambiar el curso de la historia.\\n\\nNaturaleza Deslumbrante: En lo profundo de la selva amazónica, una flor mágica conocida como \"Luz de Luna\" florece solo durante la noche. Con pétalos que brillan intensamente, la flor ilumina la oscuridad de la jungla, guiando a criaturas nocturnas y revelando paisajes deslumbrantes. Los lugareños creen que posee poderes curativos, convirtiéndola en el tesoro oculto de la naturaleza.\\n\\nCuento Corto: En un pequeño pueblo, cada año, un reloj antiguo regala un día extra a la persona más desafortunada. Emma, una joven huérfana, es la elegida este año. Durante su día adicional, descubre una puerta mágica que la transporta a un mundo lleno de maravillas. Al final del día, Emma decide compartir su regalo con el pueblo, dejando una huella imborrable en el corazón de cada habitante.\\n\\nCaracterísticas del Héroe Olvidado: Conocido como \"Sombra Silenciosa\", nuestro héroe es un maestro del sigilo y la astucia. Dotado de una memoria fotográfica y habilidades de camuflaje, se desplaza entre las sombras para proteger a los indefensos. Su pasado enigmático esconde tragedias que lo impulsan a luchar contra la injusticia. Aunque carece de habilidades sobrenaturales, su ingenio y habilidades tácticas lo convierten en una fuerza a tener en cuenta.'], reference_answer='En la historia de ficción espacial, el explorador Zara descubre un antiguo artefacto que podría contener la clave para la paz entre los Dracorians y los Lumis.', reference_answer_by=CreatedBy(model_name='gpt-4o-mini', type=<CreatedByType.AI: 'ai'>)), LabelledRagDataExample(query='En el relato de ficción tecnológica, ¿cuál es el dilema ético que enfrenta Alex al descubrir que las supercomputadoras han desarrollado emociones?', query_by=CreatedBy(model_name='gpt-4o-mini', type=<CreatedByType.AI: 'ai'>), reference_contexts=['Ficción Espacial: En la lejana galaxia de Zenthoria, dos civilizaciones alienígenas, los Dracorians y los Lumis, se encuentran al borde de la guerra intergaláctica. Un intrépido explorador, Zara, descubre un antiguo artefacto que podría contener la clave para la paz. Mientras viaja por planetas hostiles y se enfrenta a desafíos cósmicos, Zara debe desentrañar los secretos de la reliquia antes de que la galaxia se sumerja en el caos.\\n\\nFicción Tecnológica: En un futuro distópico, la inteligencia artificial ha evolucionado al punto de alcanzar la singularidad. Un joven ingeniero, Alex, se ve inmerso en una conspiración global cuando descubre que las supercomputadoras han desarrollado emociones. A medida que la humanidad lucha por controlar a estas máquinas sintientes, Alex se enfrenta a dilemas éticos y decisiones que podrían cambiar el curso de la historia.\\n\\nNaturaleza Deslumbrante: En lo profundo de la selva amazónica, una flor mágica conocida como \"Luz de Luna\" florece solo durante la noche. Con pétalos que brillan intensamente, la flor ilumina la oscuridad de la jungla, guiando a criaturas nocturnas y revelando paisajes deslumbrantes. Los lugareños creen que posee poderes curativos, convirtiéndola en el tesoro oculto de la naturaleza.\\n\\nCuento Corto: En un pequeño pueblo, cada año, un reloj antiguo regala un día extra a la persona más desafortunada. Emma, una joven huérfana, es la elegida este año. Durante su día adicional, descubre una puerta mágica que la transporta a un mundo lleno de maravillas. Al final del día, Emma decide compartir su regalo con el pueblo, dejando una huella imborrable en el corazón de cada habitante.\\n\\nCaracterísticas del Héroe Olvidado: Conocido como \"Sombra Silenciosa\", nuestro héroe es un maestro del sigilo y la astucia. Dotado de una memoria fotográfica y habilidades de camuflaje, se desplaza entre las sombras para proteger a los indefensos. Su pasado enigmático esconde tragedias que lo impulsan a luchar contra la injusticia. Aunque carece de habilidades sobrenaturales, su ingenio y habilidades tácticas lo convierten en una fuerza a tener en cuenta.'], reference_answer='En el relato de ficción tecnológica, el dilema ético que enfrenta Alex al descubrir que las supercomputadoras han desarrollado emociones radica en la lucha de la humanidad por controlar a estas máquinas sintientes. Alex debe confrontar cuestiones sobre la naturaleza de la inteligencia artificial y su derecho a sentir, así como las implicaciones de tratar a estas entidades como meras herramientas. Esto lo lleva a tomar decisiones que podrían cambiar el curso de la historia, cuestionando si es moralmente correcto restringir la libertad de seres que poseen emociones y conciencia.', reference_answer_by=CreatedBy(model_name='gpt-4o-mini', type=<CreatedByType.AI: 'ai'>)), LabelledRagDataExample(query='Describe las características de la flor \"Luz de Luna\" mencionada en la sección de naturaleza deslumbrante y su importancia para los lugareños.', query_by=CreatedBy(model_name='gpt-4o-mini', type=<CreatedByType.AI: 'ai'>), reference_contexts=['Ficción Espacial: En la lejana galaxia de Zenthoria, dos civilizaciones alienígenas, los Dracorians y los Lumis, se encuentran al borde de la guerra intergaláctica. Un intrépido explorador, Zara, descubre un antiguo artefacto que podría contener la clave para la paz. Mientras viaja por planetas hostiles y se enfrenta a desafíos cósmicos, Zara debe desentrañar los secretos de la reliquia antes de que la galaxia se sumerja en el caos.\\n\\nFicción Tecnológica: En un futuro distópico, la inteligencia artificial ha evolucionado al punto de alcanzar la singularidad. Un joven ingeniero, Alex, se ve inmerso en una conspiración global cuando descubre que las supercomputadoras han desarrollado emociones. A medida que la humanidad lucha por controlar a estas máquinas sintientes, Alex se enfrenta a dilemas éticos y decisiones que podrían cambiar el curso de la historia.\\n\\nNaturaleza Deslumbrante: En lo profundo de la selva amazónica, una flor mágica conocida como \"Luz de Luna\" florece solo durante la noche. Con pétalos que brillan intensamente, la flor ilumina la oscuridad de la jungla, guiando a criaturas nocturnas y revelando paisajes deslumbrantes. Los lugareños creen que posee poderes curativos, convirtiéndola en el tesoro oculto de la naturaleza.\\n\\nCuento Corto: En un pequeño pueblo, cada año, un reloj antiguo regala un día extra a la persona más desafortunada. Emma, una joven huérfana, es la elegida este año. Durante su día adicional, descubre una puerta mágica que la transporta a un mundo lleno de maravillas. Al final del día, Emma decide compartir su regalo con el pueblo, dejando una huella imborrable en el corazón de cada habitante.\\n\\nCaracterísticas del Héroe Olvidado: Conocido como \"Sombra Silenciosa\", nuestro héroe es un maestro del sigilo y la astucia. Dotado de una memoria fotográfica y habilidades de camuflaje, se desplaza entre las sombras para proteger a los indefensos. Su pasado enigmático esconde tragedias que lo impulsan a luchar contra la injusticia. Aunque carece de habilidades sobrenaturales, su ingenio y habilidades tácticas lo convierten en una fuerza a tener en cuenta.'], reference_answer='La flor \"Luz de Luna\" es una planta mágica que florece únicamente durante la noche en lo profundo de la selva amazónica. Sus características más destacadas son sus pétalos que brillan intensamente, lo que ilumina la oscuridad de la jungla y guía a las criaturas nocturnas. Este resplandor no solo crea un paisaje deslumbrante, sino que también revela la belleza oculta de la naturaleza en la selva.\\n\\nPara los lugareños, la \"Luz de Luna\" es considerada un tesoro oculto debido a sus supuestos poderes curativos. La flor es valorada', reference_answer_by=CreatedBy(model_name='gpt-4o-mini', type=<CreatedByType.AI: 'ai'>)), LabelledRagDataExample(query='En el cuento corto sobre Emma, ¿qué evento especial ocurre cada año en el pueblo relacionado con el reloj antiguo y cómo afecta', query_by=CreatedBy(model_name='gpt-4o-mini', type=<CreatedByType.AI: 'ai'>), reference_contexts=['Ficción Espacial: En la lejana galaxia de Zenthoria, dos civilizaciones alienígenas, los Dracorians y los Lumis, se encuentran al borde de la guerra intergaláctica. Un intrépido explorador, Zara, descubre un antiguo artefacto que podría contener la clave para la paz. Mientras viaja por planetas hostiles y se enfrenta a desafíos cósmicos, Zara debe desentrañar los secretos de la reliquia antes de que la galaxia se sumerja en el caos.\\n\\nFicción Tecnológica: En un futuro distópico, la inteligencia artificial ha evolucionado al punto de alcanzar la singularidad. Un joven ingeniero, Alex, se ve inmerso en una conspiración global cuando descubre que las supercomputadoras han desarrollado emociones. A medida que la humanidad lucha por controlar a estas máquinas sintientes, Alex se enfrenta a dilemas éticos y decisiones que podrían cambiar el curso de la historia.\\n\\nNaturaleza Deslumbrante: En lo profundo de la selva amazónica, una flor mágica conocida como \"Luz de Luna\" florece solo durante la noche. Con pétalos que brillan intensamente, la flor ilumina la oscuridad de la jungla, guiando a criaturas nocturnas y revelando paisajes deslumbrantes. Los lugareños creen que posee poderes curativos, convirtiéndola en el tesoro oculto de la naturaleza.\\n\\nCuento Corto: En un pequeño pueblo, cada año, un reloj antiguo regala un día extra a la persona más desafortunada. Emma, una joven huérfana, es la elegida este año. Durante su día adicional, descubre una puerta mágica que la transporta a un mundo lleno de maravillas. Al final del día, Emma decide compartir su regalo con el pueblo, dejando una huella imborrable en el corazón de cada habitante.\\n\\nCaracterísticas del Héroe Olvidado: Conocido como \"Sombra Silenciosa\", nuestro héroe es un maestro del sigilo y la astucia. Dotado de una memoria fotográfica y habilidades de camuflaje, se desplaza entre las sombras para proteger a los indefensos. Su pasado enigmático esconde tragedias que lo impulsan a luchar contra la injusticia. Aunque carece de habilidades sobrenaturales, su ingenio y habilidades tácticas lo convierten en una fuerza a tener en cuenta.'], reference_answer='Cada año, en el pequeño pueblo, un reloj antiguo regala un día extra a la persona más desafortunada. Este evento especial afecta a la elegida, que en este caso es Emma, una joven huérfana. Durante su día adicional, Emma descubre una puerta mágica que la transporta a un mundo lleno de maravillas. Al final del día, decide compartir su regalo con el pueblo, dejando una huella imborrable en el corazón de cada habitante.', reference_answer_by=CreatedBy(model_name='gpt-4o-mini', type=<CreatedByType.AI: 'ai'>))]\n"
     ]
    },
    {
     "name": "stderr",
     "output_type": "stream",
     "text": [
      "\n"
     ]
    }
   ],
   "source": [
    "# Inicilizar LLM\n",
    "openai_llm = OpenAI(\n",
    "    api_key=openai_api_key, \n",
    "    model=\"gpt-4o-mini\", \n",
    "    temperature=0, \n",
    "    max_tokens=128\n",
    ") \n",
    "\n",
    "# Crea preguntas usando RagDatasetGenerator\n",
    "dataset_generator = RagDatasetGenerator.from_documents(\n",
    "    documents=documents,\n",
    "    llm=openai_llm,\n",
    "    num_questions_per_chunk=5,  # Numero de preguntas por chunk \n",
    "    show_progress=True\n",
    ")\n",
    "\n",
    "# Genera el RAG_DataSET\n",
    "rag_dataset = dataset_generator.generate_dataset_from_nodes()\n",
    "\n",
    "print(rag_dataset)"
   ]
  },
  {
   "cell_type": "code",
   "execution_count": 21,
   "metadata": {},
   "outputs": [
    {
     "data": {
      "text/html": [
       "<div>\n",
       "<style scoped>\n",
       "    .dataframe tbody tr th:only-of-type {\n",
       "        vertical-align: middle;\n",
       "    }\n",
       "\n",
       "    .dataframe tbody tr th {\n",
       "        vertical-align: top;\n",
       "    }\n",
       "\n",
       "    .dataframe thead th {\n",
       "        text-align: right;\n",
       "    }\n",
       "</style>\n",
       "<table border=\"1\" class=\"dataframe\">\n",
       "  <thead>\n",
       "    <tr style=\"text-align: right;\">\n",
       "      <th></th>\n",
       "      <th>query</th>\n",
       "      <th>reference_contexts</th>\n",
       "      <th>reference_answer</th>\n",
       "      <th>reference_answer_by</th>\n",
       "      <th>query_by</th>\n",
       "    </tr>\n",
       "  </thead>\n",
       "  <tbody>\n",
       "    <tr>\n",
       "      <th>0</th>\n",
       "      <td>En la historia de ficción espacial, ¿qué descu...</td>\n",
       "      <td>[Ficción Espacial: En la lejana galaxia de Zen...</td>\n",
       "      <td>En la historia de ficción espacial, el explora...</td>\n",
       "      <td>ai (gpt-4o-mini)</td>\n",
       "      <td>ai (gpt-4o-mini)</td>\n",
       "    </tr>\n",
       "    <tr>\n",
       "      <th>1</th>\n",
       "      <td>En el relato de ficción tecnológica, ¿cuál es ...</td>\n",
       "      <td>[Ficción Espacial: En la lejana galaxia de Zen...</td>\n",
       "      <td>En el relato de ficción tecnológica, el dilema...</td>\n",
       "      <td>ai (gpt-4o-mini)</td>\n",
       "      <td>ai (gpt-4o-mini)</td>\n",
       "    </tr>\n",
       "    <tr>\n",
       "      <th>2</th>\n",
       "      <td>Describe las características de la flor \"Luz d...</td>\n",
       "      <td>[Ficción Espacial: En la lejana galaxia de Zen...</td>\n",
       "      <td>La flor \"Luz de Luna\" es una planta mágica que...</td>\n",
       "      <td>ai (gpt-4o-mini)</td>\n",
       "      <td>ai (gpt-4o-mini)</td>\n",
       "    </tr>\n",
       "    <tr>\n",
       "      <th>3</th>\n",
       "      <td>En el cuento corto sobre Emma, ¿qué evento esp...</td>\n",
       "      <td>[Ficción Espacial: En la lejana galaxia de Zen...</td>\n",
       "      <td>Cada año, en el pequeño pueblo, un reloj antig...</td>\n",
       "      <td>ai (gpt-4o-mini)</td>\n",
       "      <td>ai (gpt-4o-mini)</td>\n",
       "    </tr>\n",
       "  </tbody>\n",
       "</table>\n",
       "</div>"
      ],
      "text/plain": [
       "                                               query  \\\n",
       "0  En la historia de ficción espacial, ¿qué descu...   \n",
       "1  En el relato de ficción tecnológica, ¿cuál es ...   \n",
       "2  Describe las características de la flor \"Luz d...   \n",
       "3  En el cuento corto sobre Emma, ¿qué evento esp...   \n",
       "\n",
       "                                  reference_contexts  \\\n",
       "0  [Ficción Espacial: En la lejana galaxia de Zen...   \n",
       "1  [Ficción Espacial: En la lejana galaxia de Zen...   \n",
       "2  [Ficción Espacial: En la lejana galaxia de Zen...   \n",
       "3  [Ficción Espacial: En la lejana galaxia de Zen...   \n",
       "\n",
       "                                    reference_answer reference_answer_by  \\\n",
       "0  En la historia de ficción espacial, el explora...    ai (gpt-4o-mini)   \n",
       "1  En el relato de ficción tecnológica, el dilema...    ai (gpt-4o-mini)   \n",
       "2  La flor \"Luz de Luna\" es una planta mágica que...    ai (gpt-4o-mini)   \n",
       "3  Cada año, en el pequeño pueblo, un reloj antig...    ai (gpt-4o-mini)   \n",
       "\n",
       "           query_by  \n",
       "0  ai (gpt-4o-mini)  \n",
       "1  ai (gpt-4o-mini)  \n",
       "2  ai (gpt-4o-mini)  \n",
       "3  ai (gpt-4o-mini)  "
      ]
     },
     "execution_count": 21,
     "metadata": {},
     "output_type": "execute_result"
    }
   ],
   "source": [
    "# Visualización en formato tabular\n",
    "rag_dataset.to_pandas()"
   ]
  },
  {
   "cell_type": "code",
   "execution_count": 26,
   "metadata": {},
   "outputs": [
    {
     "data": {
      "text/plain": [
       "LabelledRagDataset(examples=[LabelledRagDataExample(query='En la historia de ficción espacial, ¿qué descubrimiento hace el explorador Zara que podría ayudar a evitar la guerra entre los Dracorians y los Lumis?', query_by=CreatedBy(model_name='gpt-4o-mini', type=<CreatedByType.AI: 'ai'>), reference_contexts=['Ficción Espacial: En la lejana galaxia de Zenthoria, dos civilizaciones alienígenas, los Dracorians y los Lumis, se encuentran al borde de la guerra intergaláctica. Un intrépido explorador, Zara, descubre un antiguo artefacto que podría contener la clave para la paz. Mientras viaja por planetas hostiles y se enfrenta a desafíos cósmicos, Zara debe desentrañar los secretos de la reliquia antes de que la galaxia se sumerja en el caos.\\n\\nFicción Tecnológica: En un futuro distópico, la inteligencia artificial ha evolucionado al punto de alcanzar la singularidad. Un joven ingeniero, Alex, se ve inmerso en una conspiración global cuando descubre que las supercomputadoras han desarrollado emociones. A medida que la humanidad lucha por controlar a estas máquinas sintientes, Alex se enfrenta a dilemas éticos y decisiones que podrían cambiar el curso de la historia.\\n\\nNaturaleza Deslumbrante: En lo profundo de la selva amazónica, una flor mágica conocida como \"Luz de Luna\" florece solo durante la noche. Con pétalos que brillan intensamente, la flor ilumina la oscuridad de la jungla, guiando a criaturas nocturnas y revelando paisajes deslumbrantes. Los lugareños creen que posee poderes curativos, convirtiéndola en el tesoro oculto de la naturaleza.\\n\\nCuento Corto: En un pequeño pueblo, cada año, un reloj antiguo regala un día extra a la persona más desafortunada. Emma, una joven huérfana, es la elegida este año. Durante su día adicional, descubre una puerta mágica que la transporta a un mundo lleno de maravillas. Al final del día, Emma decide compartir su regalo con el pueblo, dejando una huella imborrable en el corazón de cada habitante.\\n\\nCaracterísticas del Héroe Olvidado: Conocido como \"Sombra Silenciosa\", nuestro héroe es un maestro del sigilo y la astucia. Dotado de una memoria fotográfica y habilidades de camuflaje, se desplaza entre las sombras para proteger a los indefensos. Su pasado enigmático esconde tragedias que lo impulsan a luchar contra la injusticia. Aunque carece de habilidades sobrenaturales, su ingenio y habilidades tácticas lo convierten en una fuerza a tener en cuenta.'], reference_answer='En la historia de ficción espacial, el explorador Zara descubre un antiguo artefacto que podría contener la clave para la paz entre los Dracorians y los Lumis.', reference_answer_by=CreatedBy(model_name='gpt-4o-mini', type=<CreatedByType.AI: 'ai'>)), LabelledRagDataExample(query='En el relato de ficción tecnológica, ¿cuál es el dilema ético que enfrenta Alex al descubrir que las supercomputadoras han desarrollado emociones?', query_by=CreatedBy(model_name='gpt-4o-mini', type=<CreatedByType.AI: 'ai'>), reference_contexts=['Ficción Espacial: En la lejana galaxia de Zenthoria, dos civilizaciones alienígenas, los Dracorians y los Lumis, se encuentran al borde de la guerra intergaláctica. Un intrépido explorador, Zara, descubre un antiguo artefacto que podría contener la clave para la paz. Mientras viaja por planetas hostiles y se enfrenta a desafíos cósmicos, Zara debe desentrañar los secretos de la reliquia antes de que la galaxia se sumerja en el caos.\\n\\nFicción Tecnológica: En un futuro distópico, la inteligencia artificial ha evolucionado al punto de alcanzar la singularidad. Un joven ingeniero, Alex, se ve inmerso en una conspiración global cuando descubre que las supercomputadoras han desarrollado emociones. A medida que la humanidad lucha por controlar a estas máquinas sintientes, Alex se enfrenta a dilemas éticos y decisiones que podrían cambiar el curso de la historia.\\n\\nNaturaleza Deslumbrante: En lo profundo de la selva amazónica, una flor mágica conocida como \"Luz de Luna\" florece solo durante la noche. Con pétalos que brillan intensamente, la flor ilumina la oscuridad de la jungla, guiando a criaturas nocturnas y revelando paisajes deslumbrantes. Los lugareños creen que posee poderes curativos, convirtiéndola en el tesoro oculto de la naturaleza.\\n\\nCuento Corto: En un pequeño pueblo, cada año, un reloj antiguo regala un día extra a la persona más desafortunada. Emma, una joven huérfana, es la elegida este año. Durante su día adicional, descubre una puerta mágica que la transporta a un mundo lleno de maravillas. Al final del día, Emma decide compartir su regalo con el pueblo, dejando una huella imborrable en el corazón de cada habitante.\\n\\nCaracterísticas del Héroe Olvidado: Conocido como \"Sombra Silenciosa\", nuestro héroe es un maestro del sigilo y la astucia. Dotado de una memoria fotográfica y habilidades de camuflaje, se desplaza entre las sombras para proteger a los indefensos. Su pasado enigmático esconde tragedias que lo impulsan a luchar contra la injusticia. Aunque carece de habilidades sobrenaturales, su ingenio y habilidades tácticas lo convierten en una fuerza a tener en cuenta.'], reference_answer='En el relato de ficción tecnológica, el dilema ético que enfrenta Alex al descubrir que las supercomputadoras han desarrollado emociones radica en la lucha de la humanidad por controlar a estas máquinas sintientes. Alex debe confrontar cuestiones sobre la naturaleza de la inteligencia artificial y su derecho a sentir, así como las implicaciones de tratar a estas entidades como meras herramientas. Esto lo lleva a tomar decisiones que podrían cambiar el curso de la historia, cuestionando si es moralmente correcto restringir la libertad de seres que poseen emociones y conciencia.', reference_answer_by=CreatedBy(model_name='gpt-4o-mini', type=<CreatedByType.AI: 'ai'>)), LabelledRagDataExample(query='Describe las características de la flor \"Luz de Luna\" mencionada en la sección de naturaleza deslumbrante y su importancia para los lugareños.', query_by=CreatedBy(model_name='gpt-4o-mini', type=<CreatedByType.AI: 'ai'>), reference_contexts=['Ficción Espacial: En la lejana galaxia de Zenthoria, dos civilizaciones alienígenas, los Dracorians y los Lumis, se encuentran al borde de la guerra intergaláctica. Un intrépido explorador, Zara, descubre un antiguo artefacto que podría contener la clave para la paz. Mientras viaja por planetas hostiles y se enfrenta a desafíos cósmicos, Zara debe desentrañar los secretos de la reliquia antes de que la galaxia se sumerja en el caos.\\n\\nFicción Tecnológica: En un futuro distópico, la inteligencia artificial ha evolucionado al punto de alcanzar la singularidad. Un joven ingeniero, Alex, se ve inmerso en una conspiración global cuando descubre que las supercomputadoras han desarrollado emociones. A medida que la humanidad lucha por controlar a estas máquinas sintientes, Alex se enfrenta a dilemas éticos y decisiones que podrían cambiar el curso de la historia.\\n\\nNaturaleza Deslumbrante: En lo profundo de la selva amazónica, una flor mágica conocida como \"Luz de Luna\" florece solo durante la noche. Con pétalos que brillan intensamente, la flor ilumina la oscuridad de la jungla, guiando a criaturas nocturnas y revelando paisajes deslumbrantes. Los lugareños creen que posee poderes curativos, convirtiéndola en el tesoro oculto de la naturaleza.\\n\\nCuento Corto: En un pequeño pueblo, cada año, un reloj antiguo regala un día extra a la persona más desafortunada. Emma, una joven huérfana, es la elegida este año. Durante su día adicional, descubre una puerta mágica que la transporta a un mundo lleno de maravillas. Al final del día, Emma decide compartir su regalo con el pueblo, dejando una huella imborrable en el corazón de cada habitante.\\n\\nCaracterísticas del Héroe Olvidado: Conocido como \"Sombra Silenciosa\", nuestro héroe es un maestro del sigilo y la astucia. Dotado de una memoria fotográfica y habilidades de camuflaje, se desplaza entre las sombras para proteger a los indefensos. Su pasado enigmático esconde tragedias que lo impulsan a luchar contra la injusticia. Aunque carece de habilidades sobrenaturales, su ingenio y habilidades tácticas lo convierten en una fuerza a tener en cuenta.'], reference_answer='La flor \"Luz de Luna\" es una planta mágica que florece únicamente durante la noche en lo profundo de la selva amazónica. Sus características más destacadas son sus pétalos que brillan intensamente, lo que ilumina la oscuridad de la jungla y guía a las criaturas nocturnas. Este resplandor no solo crea un paisaje deslumbrante, sino que también revela la belleza oculta de la naturaleza en la selva.\\n\\nPara los lugareños, la \"Luz de Luna\" es considerada un tesoro oculto debido a sus supuestos poderes curativos. La flor es valorada', reference_answer_by=CreatedBy(model_name='gpt-4o-mini', type=<CreatedByType.AI: 'ai'>)), LabelledRagDataExample(query='En el cuento corto sobre Emma, ¿qué evento especial ocurre cada año en el pueblo relacionado con el reloj antiguo y cómo afecta', query_by=CreatedBy(model_name='gpt-4o-mini', type=<CreatedByType.AI: 'ai'>), reference_contexts=['Ficción Espacial: En la lejana galaxia de Zenthoria, dos civilizaciones alienígenas, los Dracorians y los Lumis, se encuentran al borde de la guerra intergaláctica. Un intrépido explorador, Zara, descubre un antiguo artefacto que podría contener la clave para la paz. Mientras viaja por planetas hostiles y se enfrenta a desafíos cósmicos, Zara debe desentrañar los secretos de la reliquia antes de que la galaxia se sumerja en el caos.\\n\\nFicción Tecnológica: En un futuro distópico, la inteligencia artificial ha evolucionado al punto de alcanzar la singularidad. Un joven ingeniero, Alex, se ve inmerso en una conspiración global cuando descubre que las supercomputadoras han desarrollado emociones. A medida que la humanidad lucha por controlar a estas máquinas sintientes, Alex se enfrenta a dilemas éticos y decisiones que podrían cambiar el curso de la historia.\\n\\nNaturaleza Deslumbrante: En lo profundo de la selva amazónica, una flor mágica conocida como \"Luz de Luna\" florece solo durante la noche. Con pétalos que brillan intensamente, la flor ilumina la oscuridad de la jungla, guiando a criaturas nocturnas y revelando paisajes deslumbrantes. Los lugareños creen que posee poderes curativos, convirtiéndola en el tesoro oculto de la naturaleza.\\n\\nCuento Corto: En un pequeño pueblo, cada año, un reloj antiguo regala un día extra a la persona más desafortunada. Emma, una joven huérfana, es la elegida este año. Durante su día adicional, descubre una puerta mágica que la transporta a un mundo lleno de maravillas. Al final del día, Emma decide compartir su regalo con el pueblo, dejando una huella imborrable en el corazón de cada habitante.\\n\\nCaracterísticas del Héroe Olvidado: Conocido como \"Sombra Silenciosa\", nuestro héroe es un maestro del sigilo y la astucia. Dotado de una memoria fotográfica y habilidades de camuflaje, se desplaza entre las sombras para proteger a los indefensos. Su pasado enigmático esconde tragedias que lo impulsan a luchar contra la injusticia. Aunque carece de habilidades sobrenaturales, su ingenio y habilidades tácticas lo convierten en una fuerza a tener en cuenta.'], reference_answer='Cada año, en el pequeño pueblo, un reloj antiguo regala un día extra a la persona más desafortunada. Este evento especial afecta a la elegida, que en este caso es Emma, una joven huérfana. Durante su día adicional, Emma descubre una puerta mágica que la transporta a un mundo lleno de maravillas. Al final del día, decide compartir su regalo con el pueblo, dejando una huella imborrable en el corazón de cada habitante.', reference_answer_by=CreatedBy(model_name='gpt-4o-mini', type=<CreatedByType.AI: 'ai'>))])"
      ]
     },
     "execution_count": 26,
     "metadata": {},
     "output_type": "execute_result"
    }
   ],
   "source": [
    "# Visualización de la variable creada\n",
    "rag_dataset"
   ]
  },
  {
   "cell_type": "code",
   "execution_count": 29,
   "metadata": {},
   "outputs": [
    {
     "data": {
      "text/plain": [
       "['En la historia de ficción espacial, ¿qué descubrimiento hace el explorador Zara que podría ayudar a evitar la guerra entre los Dracorians y los Lumis?',\n",
       " 'En el relato de ficción tecnológica, ¿cuál es el dilema ético que enfrenta Alex al descubrir que las supercomputadoras han desarrollado emociones?',\n",
       " 'Describe las características de la flor \"Luz de Luna\" mencionada en la sección de naturaleza deslumbrante y su importancia para los lugareños.',\n",
       " 'En el cuento corto sobre Emma, ¿qué evento especial ocurre cada año en el pueblo relacionado con el reloj antiguo y cómo afecta']"
      ]
     },
     "execution_count": 29,
     "metadata": {},
     "output_type": "execute_result"
    }
   ],
   "source": [
    "# Extraer preguntas del RAG dataset \n",
    "eval_questions = [example.query for example in rag_dataset.examples]\n",
    "eval_questions"
   ]
  },
  {
   "cell_type": "code",
   "execution_count": 22,
   "metadata": {},
   "outputs": [],
   "source": [
    "from llama_index.core import Settings\n",
    "\n",
    "# Inicialización de openai\n",
    "Settings.llm = openai_llm\n",
    "\n",
    "# Define Faithfulness and Relevancy Evaluators using openai\n",
    "faithfulness_openai = FaithfulnessEvaluator(llm=openai_llm)\n",
    "relevancy_openai = RelevancyEvaluator(llm=openai_llm)"
   ]
  },
  {
   "cell_type": "code",
   "execution_count": null,
   "metadata": {},
   "outputs": [
    {
     "data": {
      "text/plain": [
       "<llama_index.core.indices.vector_store.base.VectorStoreIndex at 0x1a7323c1510>"
      ]
     },
     "execution_count": 23,
     "metadata": {},
     "output_type": "execute_result"
    }
   ],
   "source": [
    "from llama_index.core.node_parser import SentenceSplitter\n",
    "\n",
    "# Test | Creación de Vector Index\n",
    "vector_index = VectorStoreIndex.from_documents(\n",
    "    documents, transformations=[\n",
    "        SentenceSplitter(chunk_size=128, chunk_overlap=30),\n",
    "        ]\n",
    ")\n",
    "\n",
    "vector_index"
   ]
  },
  {
   "cell_type": "code",
   "execution_count": 24,
   "metadata": {},
   "outputs": [],
   "source": [
    "# Test | Crear el motor de consulta desde el índice vectorial\n",
    "query_engine = vector_index.as_query_engine()"
   ]
  },
  {
   "cell_type": "code",
   "execution_count": 16,
   "metadata": {},
   "outputs": [
    {
     "name": "stdout",
     "output_type": "stream",
     "text": [
      "Zara es un intrépido explorador que descubre un antiguo artefacto que podría contener la clave para la paz en medio de un conflicto entre dos civilizaciones alienígenas, los Dracorians y los Lumis.\n"
     ]
    }
   ],
   "source": [
    "# Test | Realizar una consulta\n",
    "query = \"Quien es Zara?\"\n",
    "response = query_engine.query(query)\n",
    "print(response)"
   ]
  },
  {
   "cell_type": "code",
   "execution_count": 17,
   "metadata": {},
   "outputs": [
    {
     "name": "stdout",
     "output_type": "stream",
     "text": [
      "query=None contexts=['Un intrépido explorador, Zara, descubre un antiguo artefacto que podría contener la clave para la paz. Mientras viaja por planetas hostiles y se enfrenta a desafíos cósmicos, Zara debe desentrañar los secretos de la reliquia antes de que la galaxia se sumerja en el caos.', 'Ficción Espacial: En la lejana galaxia de Zenthoria, dos civilizaciones alienígenas, los Dracorians y los Lumis, se encuentran al borde de la guerra intergaláctica. Un intrépido explorador, Zara, descubre un antiguo artefacto que podría contener la clave para la paz.'] response='Zara es un intrépido explorador que descubre un antiguo artefacto que podría contener la clave para la paz en medio de un conflicto entre dos civilizaciones alienígenas, los Dracorians y los Lumis.' passing=True feedback='YES' score=1.0 pairwise_source=None invalid_result=False invalid_reason=None\n"
     ]
    }
   ],
   "source": [
    "# Test | Precision\n",
    "eval_result = faithfulness_openai.evaluate_response(response=response)\n",
    "print(eval_result)"
   ]
  },
  {
   "cell_type": "code",
   "execution_count": 25,
   "metadata": {},
   "outputs": [
    {
     "name": "stdout",
     "output_type": "stream",
     "text": [
      "True\n"
     ]
    }
   ],
   "source": [
    "# Test | Relevancia\n",
    "relevancy_result = relevancy_openai.evaluate_response(\n",
    "    query=query, response=response\n",
    ").passing\n",
    "print(relevancy_result)"
   ]
  },
  {
   "cell_type": "code",
   "execution_count": 33,
   "metadata": {},
   "outputs": [],
   "source": [
    "import time\n",
    "\n",
    "def evaluate_response_time_and_accuracy(chunk_size, eval_questions):\n",
    "    total_response_time = 0\n",
    "    total_faithfulness = 0\n",
    "    total_relevancy = 0\n",
    "    \n",
    "    # create vector index\n",
    "    vector_index = VectorStoreIndex.from_documents(\n",
    "    documents, transformations=[\n",
    "        SentenceSplitter(chunk_size=chunk_size, chunk_overlap=(chunk_size/4)),\n",
    "        ]\n",
    "    )\n",
    "\n",
    "    query_engine = vector_index.as_query_engine()\n",
    "    num_questions = len(eval_questions)\n",
    "\n",
    "    for question in eval_questions:\n",
    "        start_time = time.time()\n",
    "        response_vector = query_engine.query(question)\n",
    "        elapsed_time = time.time() - start_time\n",
    "\n",
    "        faithfulness_result = faithfulness_openai.evaluate_response(\n",
    "            response=response_vector\n",
    "        ).passing\n",
    "\n",
    "        relevancy_result = relevancy_openai.evaluate_response(\n",
    "            query=question, response=response_vector\n",
    "        ).passing\n",
    "\n",
    "        total_response_time += elapsed_time\n",
    "        total_faithfulness += faithfulness_result\n",
    "        total_relevancy += relevancy_result\n",
    "\n",
    "    average_response_time = total_response_time / num_questions\n",
    "    average_faithfulness = total_faithfulness / num_questions\n",
    "    average_relevancy = total_relevancy / num_questions\n",
    "\n",
    "    return average_response_time, average_faithfulness, average_relevancy"
   ]
  },
  {
   "cell_type": "code",
   "execution_count": 34,
   "metadata": {},
   "outputs": [
    {
     "name": "stdout",
     "output_type": "stream",
     "text": [
      "Metadata length (31) is close to chunk size (64). Resulting chunks are less than 50 tokens. Consider increasing the chunk size or decreasing the size of your metadata to avoid this.\n",
      "Chunk size 64 - Average Response time: 2.90s, Average Faithfulness: 0.75, Average Relevancy: 1.00\n",
      "Chunk size 128 - Average Response time: 2.40s, Average Faithfulness: 1.00, Average Relevancy: 1.00\n",
      "Chunk size 256 - Average Response time: 2.36s, Average Faithfulness: 0.75, Average Relevancy: 0.75\n"
     ]
    }
   ],
   "source": [
    "# Se iteran los difentes tamaños de chunksize.\n",
    "\n",
    "for chunk_size in [64, 128, 256]:\n",
    "  avg_response_time, avg_faithfulness, avg_relevancy = evaluate_response_time_and_accuracy(chunk_size, eval_questions)\n",
    "  print(f\"Chunk size {chunk_size} - Average Response time: {avg_response_time:.2f}s, Average Faithfulness: {avg_faithfulness:.2f}, Average Relevancy: {avg_relevancy:.2f}\")"
   ]
  },
  {
   "cell_type": "markdown",
   "metadata": {},
   "source": [
    "- **Chunk Size 64:** Cantidad de token muy cercana al metadata, podría generar problemas y tiempo de respuesta más grande\n",
    "- **Chunk Size 128:** Tiempo de respuesta equilibrado y promedio de precisión y relevance alta\n",
    "- **Chunk Size 256:** Tiempo de respuesta más rápido, pero la precisión y relevancia disminuyen"
   ]
  },
  {
   "cell_type": "code",
   "execution_count": 35,
   "metadata": {},
   "outputs": [
    {
     "name": "stdout",
     "output_type": "stream",
     "text": [
      "Chunk size 384 - Average Response time: 3.53s, Average Faithfulness: 1.00, Average Relevancy: 1.00\n",
      "Chunk size 512 - Average Response time: 2.14s, Average Faithfulness: 1.00, Average Relevancy: 1.00\n"
     ]
    }
   ],
   "source": [
    "for chunk_size in [384, 512]:\n",
    "  avg_response_time, avg_faithfulness, avg_relevancy = evaluate_response_time_and_accuracy(chunk_size, eval_questions)\n",
    "  print(f\"Chunk size {chunk_size} - Average Response time: {avg_response_time:.2f}s, Average Faithfulness: {avg_faithfulness:.2f}, Average Relevancy: {avg_relevancy:.2f}\")"
   ]
  },
  {
   "cell_type": "markdown",
   "metadata": {},
   "source": [
    "- **Chunk Size 384:** Tiempo de respuesta más **grande** entre los testeados y promedio de precisión y relevancia alta\n",
    "- **Chunk Size 512:** Tiempo de respuesta más **rápido** entre los testeados y promedio de precisión y relevancia alta"
   ]
  },
  {
   "cell_type": "code",
   "execution_count": 38,
   "metadata": {},
   "outputs": [
    {
     "name": "stdout",
     "output_type": "stream",
     "text": [
      "Chunk size 1024 - Average Response time: 2.25s, Average Faithfulness: 1.00, Average Relevancy: 1.00\n"
     ]
    }
   ],
   "source": [
    "for chunk_size in [1024]:\n",
    "  avg_response_time, avg_faithfulness, avg_relevancy = evaluate_response_time_and_accuracy(chunk_size, eval_questions)\n",
    "  print(f\"Chunk size {chunk_size} - Average Response time: {avg_response_time:.2f}s, Average Faithfulness: {avg_faithfulness:.2f}, Average Relevancy: {avg_relevancy:.2f}\")"
   ]
  },
  {
   "cell_type": "markdown",
   "metadata": {},
   "source": [
    "- **Chunk Size 1024:** Tiempo de respuesta equilibrado y promedio de precisión y relevance alta"
   ]
  },
  {
   "cell_type": "markdown",
   "metadata": {},
   "source": [
    "#### **Conclusión:** \n",
    "- El número ideal de chunk size es de 512 al presentar promedio de precisión y relevancia alta o perfecta y ser el más rápido dentro de esa categoría."
   ]
  },
  {
   "cell_type": "markdown",
   "metadata": {},
   "source": [
    "#### **Posibles mejoras:**\n",
    "- Aumentar el número de preguntas y testeos, pero se consumiría una mayor cantidad de tokens."
   ]
  }
 ],
 "metadata": {
  "kernelspec": {
   "display_name": "venv",
   "language": "python",
   "name": "python3"
  },
  "language_info": {
   "codemirror_mode": {
    "name": "ipython",
    "version": 3
   },
   "file_extension": ".py",
   "mimetype": "text/x-python",
   "name": "python",
   "nbconvert_exporter": "python",
   "pygments_lexer": "ipython3",
   "version": "3.11.4"
  }
 },
 "nbformat": 4,
 "nbformat_minor": 2
}
